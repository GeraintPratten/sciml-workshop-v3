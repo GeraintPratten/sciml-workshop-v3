{
 "cells": [
  {
   "cell_type": "markdown",
   "metadata": {
    "id": "IL9SW6kO1Pea"
   },
   "source": [
    "# Generative Adversarial Networks: Generating Graphene EM Images\n",
    "\n",
    "In [07_VAE_practical.ipynb](07_VAE_practical.ipynb), we have used the inelastic neutron scattering (INS) dataset to train a VAE to generate new images. In this notebook, we train a GAN with the same dataset."
   ]
  },
  {
   "cell_type": "code",
   "execution_count": 1,
   "metadata": {
    "colab": {
     "base_uri": "https://localhost:8080/"
    },
    "id": "fhRLCYd81Peb",
    "outputId": "e8dc212e-7437-4c8f-f5d6-b7e51d252c79"
   },
   "outputs": [
    {
     "name": "stdout",
     "output_type": "stream",
     "text": [
      "Using TensorFlow v2.4.1\n"
     ]
    }
   ],
   "source": [
    "# tensorflow\n",
    "import tensorflow as tf\n",
    "from tensorflow import keras\n",
    "from tensorflow.keras.models import Sequential\n",
    "import tensorflow.keras.layers as layers\n",
    "\n",
    "# check version\n",
    "print('Using TensorFlow v%s' % tf.__version__)\n",
    "acc_str = 'accuracy' if tf.__version__[:2] == '2.' else 'acc'\n",
    "\n",
    "# helpers\n",
    "import h5py\n",
    "import numpy as np\n",
    "import matplotlib.pyplot as plt\n",
    "import time\n",
    "plt.style.use('ggplot')"
   ]
  },
  {
   "cell_type": "markdown",
   "metadata": {
    "id": "jJgy1Gy_yA6i"
   },
   "source": [
    "## Google Cloud Storage Boilerplate\n",
    "\n",
    "The following two cells have some boilerplate to mount the Google Cloud Storage bucket containing the data used for this notebook to your Google Colab file system. To access the data, you need to:\n",
    "\n",
    "1. Run the first cell;\n",
    "2. Follow the link when prompted (you may be asked to log in with your Google account);\n",
    "3. Copy the Google SDK token back into the prompt and press `Enter`;\n",
    "4. Run the second cell and wait until the data folder appears.\n",
    "\n",
    "If everything works correctly, a new folder called `sciml-workshop-data` should appear in the file browser on the left. Depending on the network speed, this may take one or two minutes. Ignore the warning \"You do not appear to have access to project ...\". If you are running the notebook locally or you have already connected to the bucket, these cells will take no effect."
   ]
  },
  {
   "cell_type": "code",
   "execution_count": 2,
   "metadata": {
    "id": "S90EzEdDyA6j"
   },
   "outputs": [],
   "source": [
    "# variables passed to bash; do not change\n",
    "project_id = 'sciml-workshop'\n",
    "bucket_name = 'sciml-workshop'\n",
    "colab_data_path = '/content/sciml-workshop-data/'\n",
    "\n",
    "try:\n",
    "    from google.colab import auth\n",
    "    auth.authenticate_user()\n",
    "    google_colab_env = 'true'\n",
    "    data_path = colab_data_path\n",
    "except:\n",
    "    google_colab_env = 'false'\n",
    "    ###################################################\n",
    "    ######## specify your local data path here ########\n",
    "    ###################################################\n",
    "    data_path = './sciml-workshop-data/'\n",
    "    "
   ]
  },
  {
   "cell_type": "code",
   "execution_count": 3,
   "metadata": {
    "colab": {
     "base_uri": "https://localhost:8080/"
    },
    "id": "ksGOHL1byA6k",
    "outputId": "5fea79be-08a5-4aed-959f-1997128ce850"
   },
   "outputs": [
    {
     "name": "stdout",
     "output_type": "stream",
     "text": [
      "OK\n",
      "48 packages can be upgraded. Run 'apt list --upgradable' to see them.\n",
      "The following NEW packages will be installed:\n",
      "  gcsfuse\n",
      "0 upgraded, 1 newly installed, 0 to remove and 48 not upgraded.\n",
      "Need to get 10.7 MB of archives.\n",
      "After this operation, 22.9 MB of additional disk space will be used.\n",
      "Selecting previously unselected package gcsfuse.\r\n",
      "(Reading database ... \r",
      "(Reading database ... 5%\r",
      "(Reading database ... 10%\r",
      "(Reading database ... 15%\r",
      "(Reading database ... 20%\r",
      "(Reading database ... 25%\r",
      "(Reading database ... 30%\r",
      "(Reading database ... 35%\r",
      "(Reading database ... 40%\r",
      "(Reading database ... 45%\r",
      "(Reading database ... 50%\r",
      "(Reading database ... 55%\r",
      "(Reading database ... 60%\r",
      "(Reading database ... 65%\r",
      "(Reading database ... 70%\r",
      "(Reading database ... 75%\r",
      "(Reading database ... 80%\r",
      "(Reading database ... 85%\r",
      "(Reading database ... 90%\r",
      "(Reading database ... 95%\r",
      "(Reading database ... 100%\r",
      "(Reading database ... 146374 files and directories currently installed.)\r\n",
      "Preparing to unpack .../gcsfuse_0.33.1_amd64.deb ...\r\n",
      "Unpacking gcsfuse (0.33.1) ...\r\n",
      "Setting up gcsfuse (0.33.1) ...\r\n",
      "Using mount point: /content/sciml-workshop-data\n",
      "Opening GCS connection...\n",
      "Mounting file system...\n",
      "File system has been successfully mounted.\n"
     ]
    },
    {
     "name": "stderr",
     "output_type": "stream",
     "text": [
      "  % Total    % Received % Xferd  Average Speed   Time    Time     Time  Current\n",
      "                                 Dload  Upload   Total   Spent    Left  Speed\n",
      "\r",
      "  0     0    0     0    0     0      0      0 --:--:-- --:--:-- --:--:--     0\r",
      "100  1974  100  1974    0     0  56400      0 --:--:-- --:--:-- --:--:-- 58058\n",
      "Warning: apt-key output should not be parsed (stdout is not a terminal)\n",
      "\n",
      "WARNING: apt does not have a stable CLI interface. Use with caution in scripts.\n",
      "\n",
      "\n",
      "WARNING: apt does not have a stable CLI interface. Use with caution in scripts.\n",
      "\n",
      "Updated property [core/project].\n"
     ]
    }
   ],
   "source": [
    "%%bash -s {google_colab_env} {colab_data_path} {project_id} {bucket_name}\n",
    "\n",
    "# running locally\n",
    "if ! $1; then\n",
    "    echo \"Running notebook locally.\"\n",
    "    exit\n",
    "fi\n",
    "\n",
    "# already mounted\n",
    "if [ -d $2 ]; then\n",
    "    echo \"Data already mounted.\"\n",
    "    exit\n",
    "fi\n",
    "\n",
    "# mount the bucket\n",
    "echo \"deb http://packages.cloud.google.com/apt gcsfuse-bionic main\" > /etc/apt/sources.list.d/gcsfuse.list\n",
    "curl https://packages.cloud.google.com/apt/doc/apt-key.gpg | apt-key add -\n",
    "apt -qq update\n",
    "apt -qq install gcsfuse\n",
    "gcloud config set project $3\n",
    "mkdir $2\n",
    "gcsfuse --implicit-dirs --limit-bytes-per-sec -1 --limit-ops-per-sec -1 $4 $2"
   ]
  },
  {
   "cell_type": "markdown",
   "metadata": {
    "id": "iagz8L7p1Pec"
   },
   "source": [
    "---"
   ]
  },
  {
   "cell_type": "markdown",
   "metadata": {
    "id": "BecsOx5TyA6k"
   },
   "source": [
    "# The dataset\n",
    "\n",
    "The INS dataset contains 20,000 images. This number is insufficient to train a GAN, given that the images are of high variability. Each image has a shape of `(20, 200)`, as composed of 10 images with shape `(20, 20)` in a row. To maximise the number of data, we divide one original image into 10 sub-images and filter out the weak ones. Finally, we obtain a dataset with 129,228 images."
   ]
  },
  {
   "cell_type": "code",
   "execution_count": 4,
   "metadata": {
    "colab": {
     "base_uri": "https://localhost:8080/",
     "height": 320
    },
    "id": "_yuS7hPJ1Ped",
    "outputId": "0ecae340-1405-4f94-aac9-fd561bafe360"
   },
   "outputs": [
    {
     "data": {
      "image/png": "[encoded data removed]",
      "text/plain": [
       "<Figure size 1200x800 with 1 Axes>"
      ]
     },
     "metadata": {
      "needs_background": "light",
      "tags": []
     },
     "output_type": "display_data"
    },
    {
     "data": {
      "image/png": "[encoded data removed]",
      "text/plain": [
       "<Figure size 1200x800 with 10 Axes>"
      ]
     },
     "metadata": {
      "needs_background": "light",
      "tags": []
     },
     "output_type": "display_data"
    },
    {
     "name": "stdout",
     "output_type": "stream",
     "text": [
      "Shape of original dataset: (20000, 20, 200, 1)\n",
      "Shape of divided dataset: (200000, 20, 20, 1)\n",
      "Shape of training dataset: (129228, 20, 20, 1)\n"
     ]
    }
   ],
   "source": [
    "# read original images\n",
    "with h5py.File(data_path + 'ins-data/train.h5', 'r') as handle:\n",
    "    big_images = handle['images'][:]\n",
    "    \n",
    "# divide into 10 sub-images\n",
    "n = big_images.shape[0]\n",
    "sub_images = np.moveaxis(big_images.reshape([n, 20, 10, 20]), 2, 1).reshape(n * 10, 20, 20, 1)\n",
    "    \n",
    "# plot an image and its sub-images\n",
    "index = 0\n",
    "plt.figure(dpi=200)\n",
    "plt.imshow(big_images[index, :, :, 0])\n",
    "plt.gca().set_aspect(1.)\n",
    "plt.axis('off')\n",
    "plt.show()\n",
    "fig, ax = plt.subplots(1, 10, dpi=200)\n",
    "for i in range(10):\n",
    "    ax[i].imshow(sub_images[index * 10 + i, :, :, 0], vmin=0, vmax=1)\n",
    "    ax[i].set_aspect(1.)\n",
    "    ax[i].axis('off')\n",
    "plt.show()\n",
    "\n",
    "# remove weak ones: max pixel smaller than a given threshold\n",
    "threshold = 0.5\n",
    "train_images = sub_images[np.where(np.max(sub_images, axis=(1, 2, 3)) > threshold)]\n",
    "\n",
    "# normalize to [-1, 1]\n",
    "train_images = train_images * 2 - 1\n",
    "\n",
    "# print size info\n",
    "print(f'Shape of original dataset: {big_images.shape}')\n",
    "print(f'Shape of divided dataset: {sub_images.shape}')\n",
    "print(f'Shape of training dataset: {train_images.shape}')"
   ]
  },
  {
   "cell_type": "markdown",
   "metadata": {
    "id": "D6wXheEGyA6m"
   },
   "source": [
    "Next, we can create a dataset with the new image set:"
   ]
  },
  {
   "cell_type": "code",
   "execution_count": 5,
   "metadata": {
    "id": "jk0FI6dtyA6m"
   },
   "outputs": [],
   "source": [
    "train_dataset = tf.data.Dataset.from_tensor_slices(train_images)\n",
    "train_dataset = train_dataset.shuffle(1024)\n",
    "train_dataset = train_dataset.batch(256)"
   ]
  },
  {
   "cell_type": "markdown",
   "metadata": {
    "id": "gXtKCXRf1Ped"
   },
   "source": [
    "---\n",
    "\n",
    "# Create a GAN\n",
    "\n",
    "Our image size is `(20, 20)`, similar to `mnist`, so we may continue to use the network designed in [08_GAN_basics.ipynb](08_GAN_basics.ipynb). \n",
    "\n",
    "\n",
    "### The generator\n",
    "\n",
    "Create a generator network. In the suggested answer, we simply copy from [08_GAN_basics.ipynb](08_GAN_basics.ipynb), only changing the image size.\n",
    "\n",
    "\n",
    "**Suggested Answer** \n",
    "\n",
    "<details> <summary>Show / Hide</summary> \n",
    "<p>\n",
    "    \n",
    "```python\n",
    "def make_generator_model(noise_size=100, image_size=(28,28), n_filters=(256,128,64)):\n",
    "    '''\n",
    "    Create a generator, hardcoded with three Conv2DTranspose layers.\n",
    "    \n",
    "    :param noise_size: size of the seed vector\n",
    "    :param image_size: size of the image (both width and height must divide 4)\n",
    "    :param n_filters: number of filters in each layer\n",
    "    :return: the generator model\n",
    "    '''\n",
    "    \n",
    "    # sequential model\n",
    "    model = tf.keras.Sequential()\n",
    "    \n",
    "    # Dense\n",
    "    # input shape: (100,)\n",
    "    # output shape: (7*7*256,)\n",
    "    w = image_size[0] // 4\n",
    "    h = image_size[1] // 4\n",
    "    model.add(layers.Dense(w*h*n_filters[0], use_bias=False, \n",
    "                           input_shape=(noise_size,)))\n",
    "    model.add(layers.BatchNormalization())\n",
    "    model.add(layers.LeakyReLU())\n",
    "\n",
    "    # Reshape\n",
    "    # input shape: (7*7*256,)\n",
    "    # output shape: (7, 7, 256)\n",
    "    model.add(layers.Reshape((w, h, n_filters[0])))\n",
    "\n",
    "    # Conv2DTranspose\n",
    "    # input shape: (7, 7, 256)\n",
    "    # output shape: (7, 7, 128)\n",
    "    model.add(layers.Conv2DTranspose(n_filters[1], (5, 5), strides=(1, 1), \n",
    "                                     padding='same', use_bias=False))\n",
    "    model.add(layers.BatchNormalization())\n",
    "    model.add(layers.LeakyReLU())\n",
    "\n",
    "    # Conv2DTranspose\n",
    "    # input shape: (7, 7, 128)\n",
    "    # output shape: (14, 14, 64)\n",
    "    model.add(layers.Conv2DTranspose(n_filters[2], (5, 5), strides=(2, 2), \n",
    "                                     padding='same', use_bias=False))\n",
    "    model.add(layers.BatchNormalization())\n",
    "    model.add(layers.LeakyReLU())\n",
    "\n",
    "    # Conv2DTranspose\n",
    "    # input shape: (14, 14, 64)\n",
    "    # output shape: (28, 28, 1)\n",
    "    model.add(layers.Conv2DTranspose(1, (5, 5), strides=(2, 2), \n",
    "                                     padding='same', use_bias=False, activation='tanh'))\n",
    "    \n",
    "    # input: (100,)\n",
    "    # output: (28, 28, 1)\n",
    "    return model\n",
    "\n",
    "# noise size\n",
    "NOISE_SIZE = 100\n",
    "\n",
    "# create a generator\n",
    "generator = make_generator_model(noise_size=NOISE_SIZE, image_size=(20, 20), \n",
    "                                 n_filters=(256,128,64))\n",
    "```\n",
    "    \n",
    "</p>\n",
    "</details>\n"
   ]
  },
  {
   "cell_type": "code",
   "execution_count": 6,
   "metadata": {
    "id": "87jYoUd-1Ped"
   },
   "outputs": [],
   "source": [
    "def make_generator_model(noise_size=100, image_size=(28,28), n_filters=(256,128,64)):\n",
    "    '''\n",
    "    Create a generator, hardcoded with three Conv2DTranspose layers.\n",
    "    \n",
    "    :param noise_size: size of the seed vector\n",
    "    :param image_size: size of the image (both width and height must divide 4)\n",
    "    :param n_filters: number of filters in each layer\n",
    "    :return: the generator model\n",
    "    '''\n",
    "    \n",
    "    # sequential model\n",
    "    model = tf.keras.Sequential()\n",
    "    \n",
    "    # Dense\n",
    "    # input shape: (100,)\n",
    "    # output shape: (7*7*256,)\n",
    "    w = image_size[0] // 4\n",
    "    h = image_size[1] // 4\n",
    "    model.add(layers.Dense(w*h*n_filters[0], use_bias=False, \n",
    "                           input_shape=(noise_size,)))\n",
    "    model.add(layers.BatchNormalization())\n",
    "    model.add(layers.LeakyReLU())\n",
    "\n",
    "    # Reshape\n",
    "    # input shape: (7*7*256,)\n",
    "    # output shape: (7, 7, 256)\n",
    "    model.add(layers.Reshape((w, h, n_filters[0])))\n",
    "\n",
    "    # Conv2DTranspose\n",
    "    # input shape: (7, 7, 256)\n",
    "    # output shape: (7, 7, 128)\n",
    "    model.add(layers.Conv2DTranspose(n_filters[1], (5, 5), strides=(1, 1), \n",
    "                                     padding='same', use_bias=False))\n",
    "    model.add(layers.BatchNormalization())\n",
    "    model.add(layers.LeakyReLU())\n",
    "\n",
    "    # Conv2DTranspose\n",
    "    # input shape: (7, 7, 128)\n",
    "    # output shape: (14, 14, 64)\n",
    "    model.add(layers.Conv2DTranspose(n_filters[2], (5, 5), strides=(2, 2), \n",
    "                                     padding='same', use_bias=False))\n",
    "    model.add(layers.BatchNormalization())\n",
    "    model.add(layers.LeakyReLU())\n",
    "\n",
    "    # Conv2DTranspose\n",
    "    # input shape: (14, 14, 64)\n",
    "    # output shape: (28, 28, 1)\n",
    "    model.add(layers.Conv2DTranspose(1, (5, 5), strides=(2, 2), \n",
    "                                     padding='same', use_bias=False, activation='tanh'))\n",
    "    \n",
    "    # input: (100,)\n",
    "    # output: (28, 28, 1)\n",
    "    return model\n",
    "\n",
    "# noise size\n",
    "NOISE_SIZE = 100\n",
    "\n",
    "# create a generator\n",
    "generator = make_generator_model(noise_size=NOISE_SIZE, image_size=(20, 20), \n",
    "                                 n_filters=(256,128,64))"
   ]
  },
  {
   "cell_type": "markdown",
   "metadata": {
    "id": "IPeLO5FX1Pee"
   },
   "source": [
    "### The discriminator\n",
    "\n",
    "Create a discriminator network. In the suggested answer, we simply copy from [08_GAN_basics.ipynb](08_GAN_basics.ipynb), only changing the image size.\n",
    "\n",
    "**Suggested Answer** \n",
    "\n",
    "<details> <summary>Show / Hide</summary> \n",
    "<p>\n",
    "    \n",
    "```python\n",
    "def make_discriminator_model(image_size=(28,28), n_filters=(64,128)):\n",
    "    '''\n",
    "    Create a discriminator, hardcoded with two Conv2D layers.\n",
    "    \n",
    "    :param image_size: size of the image (both width and height must divide 4)\n",
    "    :param n_filters: number of filters in each layer\n",
    "    :return: the discriminator model\n",
    "    '''\n",
    "    \n",
    "    # sequential model\n",
    "    model = tf.keras.Sequential()\n",
    "    \n",
    "    # Conv2D\n",
    "    # input shape: (28, 28, 1)\n",
    "    # output shape: (14, 14, 64)\n",
    "    w = image_size[0]\n",
    "    h = image_size[1]\n",
    "    model.add(layers.Conv2D(n_filters[0], (5, 5), strides=(2, 2), padding='same',\n",
    "              input_shape=[w, h, 1]))\n",
    "    model.add(layers.LeakyReLU())\n",
    "    model.add(layers.Dropout(0.3))\n",
    "\n",
    "    # Conv2D\n",
    "    # input shape: (14, 14, 64)\n",
    "    # output shape: (7, 7, 128)\n",
    "    model.add(layers.Conv2D(n_filters[1], (5, 5), strides=(2, 2), padding='same'))\n",
    "    model.add(layers.LeakyReLU())\n",
    "    model.add(layers.Dropout(0.3))\n",
    "\n",
    "    # Flatten\n",
    "    # input shape: (7, 7, 128)\n",
    "    # output shape: (7*7*128,)\n",
    "    model.add(layers.Flatten())\n",
    "    \n",
    "    # 4th layer: Dense\n",
    "    # input shape: (7*7*128,)\n",
    "    # output shape: (1,)\n",
    "    model.add(layers.Dense(1))\n",
    "    \n",
    "    # input: (28, 28, 1)\n",
    "    # output: (1,)\n",
    "    return model\n",
    "\n",
    "# create a discriminator\n",
    "discriminator = make_discriminator_model(image_size=(20, 20), n_filters=(64,128))\n",
    "```\n",
    "    \n",
    "</p>\n",
    "</details>"
   ]
  },
  {
   "cell_type": "code",
   "execution_count": 7,
   "metadata": {
    "id": "hzL8DZlj1Pef"
   },
   "outputs": [],
   "source": [
    "def make_discriminator_model(image_size=(28,28), n_filters=(64,128)):\n",
    "    '''\n",
    "    Create a discriminator, hardcoded with two Conv2D layers.\n",
    "    \n",
    "    :param image_size: size of the image (both width and height must divide 4)\n",
    "    :param n_filters: number of filters in each layer\n",
    "    :return: the discriminator model\n",
    "    '''\n",
    "    \n",
    "    # sequential model\n",
    "    model = tf.keras.Sequential()\n",
    "    \n",
    "    # Conv2D\n",
    "    # input shape: (28, 28, 1)\n",
    "    # output shape: (14, 14, 64)\n",
    "    w = image_size[0]\n",
    "    h = image_size[1]\n",
    "    model.add(layers.Conv2D(n_filters[0], (5, 5), strides=(2, 2), padding='same',\n",
    "              input_shape=[w, h, 1]))\n",
    "    model.add(layers.LeakyReLU())\n",
    "    model.add(layers.Dropout(0.3))\n",
    "\n",
    "    # Conv2D\n",
    "    # input shape: (14, 14, 64)\n",
    "    # output shape: (7, 7, 128)\n",
    "    model.add(layers.Conv2D(n_filters[1], (5, 5), strides=(2, 2), padding='same'))\n",
    "    model.add(layers.LeakyReLU())\n",
    "    model.add(layers.Dropout(0.3))\n",
    "\n",
    "    # Flatten\n",
    "    # input shape: (7, 7, 128)\n",
    "    # output shape: (7*7*128,)\n",
    "    model.add(layers.Flatten())\n",
    "    \n",
    "    # 4th layer: Dense\n",
    "    # input shape: (7*7*128,)\n",
    "    # output shape: (1,)\n",
    "    model.add(layers.Dense(1))\n",
    "    \n",
    "    # input: (28, 28, 1)\n",
    "    # output: (1,)\n",
    "    return model\n",
    "\n",
    "# create a discriminator\n",
    "discriminator = make_discriminator_model(image_size=(20, 20), n_filters=(64,128))"
   ]
  },
  {
   "cell_type": "markdown",
   "metadata": {
    "id": "BJwU_Zuh1Peg"
   },
   "source": [
    "### Loss functions and optimizers\n",
    "\n",
    "Create the loss functions and optimizers for the generator and discriminator. In the suggested answer, we simply copy from [08_GAN_basics.ipynb](08_GAN_basics.ipynb) without changing anything.\n",
    "\n",
    "**Suggested Answer** \n",
    "\n",
    "<details> <summary>Show / Hide</summary> \n",
    "<p>\n",
    "    \n",
    "```python\n",
    "# cross entropy\n",
    "cross_entropy = tf.keras.losses.BinaryCrossentropy(from_logits=True)\n",
    "\n",
    "# discriminator's loss \n",
    "def discriminator_loss(real_output, fake_output):\n",
    "    real_loss = cross_entropy(tf.ones_like(real_output), real_output)\n",
    "    fake_loss = cross_entropy(tf.zeros_like(fake_output), fake_output)\n",
    "    total_loss = real_loss + fake_loss\n",
    "    return total_loss\n",
    "\n",
    "# generator's loss\n",
    "def generator_loss(fake_output):\n",
    "    return cross_entropy(tf.ones_like(fake_output), fake_output)\n",
    "\n",
    "# optimizers\n",
    "discriminator_optimizer = tf.keras.optimizers.Adam(1e-4)\n",
    "generator_optimizer = tf.keras.optimizers.Adam(1e-4)\n",
    "```\n",
    "    \n",
    "</p>\n",
    "</details>"
   ]
  },
  {
   "cell_type": "code",
   "execution_count": 8,
   "metadata": {
    "id": "qrr0OkpK1Peg"
   },
   "outputs": [],
   "source": [
    "# cross entropy\n",
    "cross_entropy = tf.keras.losses.BinaryCrossentropy(from_logits=True)\n",
    "\n",
    "# discriminator's loss \n",
    "def discriminator_loss(real_output, fake_output):\n",
    "    real_loss = cross_entropy(tf.ones_like(real_output), real_output)\n",
    "    fake_loss = cross_entropy(tf.zeros_like(fake_output), fake_output)\n",
    "    total_loss = real_loss + fake_loss\n",
    "    return total_loss\n",
    "\n",
    "# generator's loss\n",
    "def generator_loss(fake_output):\n",
    "    return cross_entropy(tf.ones_like(fake_output), fake_output)\n",
    "\n",
    "# optimizers\n",
    "discriminator_optimizer = tf.keras.optimizers.Adam(1e-4)\n",
    "generator_optimizer = tf.keras.optimizers.Adam(1e-4)"
   ]
  },
  {
   "cell_type": "markdown",
   "metadata": {
    "id": "j3ap7IM01Peh"
   },
   "source": [
    "---"
   ]
  },
  {
   "cell_type": "markdown",
   "metadata": {
    "id": "RtnH9DnK1Peh"
   },
   "source": [
    "# Training Loop\n",
    "\n",
    "Implement the training function for a mini-batch. In the suggested answer, we simply copy from [08_GAN_basics.ipynb](08_GAN_basics.ipynb) without changing anything.\n",
    "\n",
    "**Suggested Answer** \n",
    "\n",
    "<details> <summary>Show / Hide</summary> \n",
    "<p>\n",
    "    \n",
    "```python\n",
    "# Notice the use of `tf.function`\n",
    "# This annotation causes the function to be \"compiled\".\n",
    "@tf.function\n",
    "def train_step(real_images, noise_size):\n",
    "    # seed\n",
    "    batch_size = real_images.shape[0]\n",
    "    seed = tf.random.normal([batch_size, noise_size])\n",
    "    with tf.GradientTape() as gen_tape, tf.GradientTape() as disc_tape:\n",
    "        # fake images\n",
    "        fake_images = generator(seed, training=True)\n",
    "        \n",
    "        # discriminate real\n",
    "        real_score = discriminator(real_images, training=True)\n",
    "        # discriminate fake\n",
    "        fake_score = discriminator(fake_images, training=True)\n",
    "\n",
    "        # compute losses\n",
    "        gen_loss = generator_loss(fake_score)\n",
    "        disc_loss = discriminator_loss(real_score, fake_score)\n",
    "        \n",
    "        # compute gradients\n",
    "        gen_gradients = gen_tape.gradient(gen_loss, generator.trainable_variables)\n",
    "        disc_gradients = disc_tape.gradient(disc_loss, discriminator.trainable_variables)\n",
    "        \n",
    "        # apply gradients to update model parameters\n",
    "        generator_optimizer.apply_gradients(zip(gen_gradients, generator.trainable_variables))\n",
    "        discriminator_optimizer.apply_gradients(zip(disc_gradients, discriminator.trainable_variables))\n",
    "        \n",
    "        return gen_loss, disc_loss\n",
    "```\n",
    "    \n",
    "</p>\n",
    "</details>\n"
   ]
  },
  {
   "cell_type": "code",
   "execution_count": 9,
   "metadata": {
    "id": "NAkUe-lS1Pei"
   },
   "outputs": [],
   "source": [
    "# Notice the use of `tf.function`\n",
    "# This annotation causes the function to be \"compiled\".\n",
    "@tf.function\n",
    "def train_step(real_images, noise_size):\n",
    "    # seed\n",
    "    batch_size = real_images.shape[0]\n",
    "    seed = tf.random.normal([batch_size, noise_size])\n",
    "    with tf.GradientTape() as gen_tape, tf.GradientTape() as disc_tape:\n",
    "        # fake images\n",
    "        fake_images = generator(seed, training=True)\n",
    "        \n",
    "        # discriminate real\n",
    "        real_score = discriminator(real_images, training=True)\n",
    "        # discriminate fake\n",
    "        fake_score = discriminator(fake_images, training=True)\n",
    "\n",
    "        # compute losses\n",
    "        gen_loss = generator_loss(fake_score)\n",
    "        disc_loss = discriminator_loss(real_score, fake_score)\n",
    "        \n",
    "        # compute gradients\n",
    "        gen_gradients = gen_tape.gradient(gen_loss, generator.trainable_variables)\n",
    "        disc_gradients = disc_tape.gradient(disc_loss, discriminator.trainable_variables)\n",
    "        \n",
    "        # apply gradients to update model parameters\n",
    "        generator_optimizer.apply_gradients(zip(gen_gradients, generator.trainable_variables))\n",
    "        discriminator_optimizer.apply_gradients(zip(disc_gradients, discriminator.trainable_variables))\n",
    "        \n",
    "        return gen_loss, disc_loss"
   ]
  },
  {
   "cell_type": "markdown",
   "metadata": {
    "id": "xtTLzXwn1Pei"
   },
   "source": [
    "Now perform the training. In the suggested answer, we simply copy from [08_GAN_basics.ipynb](08_GAN_basics.ipynb) without changing anything.\n",
    "\n",
    "**Suggested Answer** \n",
    "\n",
    "<details> <summary>Show / Hide</summary> \n",
    "<p>\n",
    "    \n",
    "```python\n",
    "############################\n",
    "######### TRAINING #########\n",
    "############################\n",
    "\n",
    "# epochs\n",
    "EPOCHS = 50\n",
    "\n",
    "# epoch loop\n",
    "tstart = time.time()\n",
    "for epoch in range(EPOCHS):\n",
    "    # batch loop\n",
    "    for i, image_batch in enumerate(train_dataset):\n",
    "        gen_loss, disc_loss = train_step(image_batch, NOISE_SIZE)\n",
    "    # print loss after each epoch\n",
    "    print(f'Epoch {epoch + 1} / {EPOCHS}, Elapsed = {time.time() - tstart:.2f} s, '\n",
    "          f'Gen loss = {gen_loss:.2f}, Disc loss = {disc_loss:.2f}')\n",
    "```\n",
    "    \n",
    "</p>\n",
    "</details>"
   ]
  },
  {
   "cell_type": "code",
   "execution_count": 10,
   "metadata": {
    "colab": {
     "base_uri": "https://localhost:8080/"
    },
    "id": "q3OZcaDi1Pei",
    "outputId": "db95bb7e-17be-49b6-ae0d-239aaec7db79"
   },
   "outputs": [
    {
     "name": "stdout",
     "output_type": "stream",
     "text": [
      "Epoch 1 / 50, Elapsed = 21.75 s, Gen loss = 0.71, Disc loss = 1.42\n",
      "Epoch 2 / 50, Elapsed = 35.02 s, Gen loss = 0.84, Disc loss = 1.16\n",
      "Epoch 3 / 50, Elapsed = 48.49 s, Gen loss = 0.86, Disc loss = 1.18\n",
      "Epoch 4 / 50, Elapsed = 62.18 s, Gen loss = 1.15, Disc loss = 0.85\n",
      "Epoch 5 / 50, Elapsed = 76.02 s, Gen loss = 1.05, Disc loss = 0.98\n",
      "Epoch 6 / 50, Elapsed = 89.71 s, Gen loss = 1.28, Disc loss = 0.85\n",
      "Epoch 7 / 50, Elapsed = 103.24 s, Gen loss = 1.24, Disc loss = 0.88\n",
      "Epoch 8 / 50, Elapsed = 116.72 s, Gen loss = 1.30, Disc loss = 0.87\n",
      "Epoch 9 / 50, Elapsed = 130.22 s, Gen loss = 1.15, Disc loss = 0.96\n",
      "Epoch 10 / 50, Elapsed = 143.81 s, Gen loss = 1.31, Disc loss = 0.75\n",
      "Epoch 11 / 50, Elapsed = 157.46 s, Gen loss = 1.24, Disc loss = 0.97\n",
      "Epoch 12 / 50, Elapsed = 171.12 s, Gen loss = 1.29, Disc loss = 0.97\n",
      "Epoch 13 / 50, Elapsed = 184.73 s, Gen loss = 1.29, Disc loss = 0.97\n",
      "Epoch 14 / 50, Elapsed = 198.32 s, Gen loss = 1.17, Disc loss = 1.04\n",
      "Epoch 15 / 50, Elapsed = 211.90 s, Gen loss = 1.10, Disc loss = 1.08\n",
      "Epoch 16 / 50, Elapsed = 225.48 s, Gen loss = 1.03, Disc loss = 1.10\n",
      "Epoch 17 / 50, Elapsed = 239.08 s, Gen loss = 1.09, Disc loss = 1.22\n",
      "Epoch 18 / 50, Elapsed = 252.69 s, Gen loss = 0.93, Disc loss = 1.23\n",
      "Epoch 19 / 50, Elapsed = 266.30 s, Gen loss = 0.89, Disc loss = 1.23\n",
      "Epoch 20 / 50, Elapsed = 279.92 s, Gen loss = 0.96, Disc loss = 1.16\n",
      "Epoch 21 / 50, Elapsed = 293.55 s, Gen loss = 1.13, Disc loss = 1.10\n",
      "Epoch 22 / 50, Elapsed = 307.17 s, Gen loss = 0.94, Disc loss = 1.25\n",
      "Epoch 23 / 50, Elapsed = 320.80 s, Gen loss = 0.97, Disc loss = 1.13\n",
      "Epoch 24 / 50, Elapsed = 334.42 s, Gen loss = 1.01, Disc loss = 1.15\n",
      "Epoch 25 / 50, Elapsed = 348.04 s, Gen loss = 1.03, Disc loss = 1.13\n",
      "Epoch 26 / 50, Elapsed = 361.66 s, Gen loss = 1.00, Disc loss = 1.20\n",
      "Epoch 27 / 50, Elapsed = 375.25 s, Gen loss = 1.09, Disc loss = 1.06\n",
      "Epoch 28 / 50, Elapsed = 388.83 s, Gen loss = 1.01, Disc loss = 1.14\n",
      "Epoch 29 / 50, Elapsed = 402.41 s, Gen loss = 0.99, Disc loss = 1.18\n",
      "Epoch 30 / 50, Elapsed = 415.99 s, Gen loss = 1.03, Disc loss = 1.23\n",
      "Epoch 31 / 50, Elapsed = 429.56 s, Gen loss = 0.91, Disc loss = 1.07\n",
      "Epoch 32 / 50, Elapsed = 443.15 s, Gen loss = 0.93, Disc loss = 1.23\n",
      "Epoch 33 / 50, Elapsed = 456.74 s, Gen loss = 0.97, Disc loss = 1.21\n",
      "Epoch 34 / 50, Elapsed = 470.34 s, Gen loss = 1.02, Disc loss = 1.16\n",
      "Epoch 35 / 50, Elapsed = 483.94 s, Gen loss = 1.04, Disc loss = 1.04\n",
      "Epoch 36 / 50, Elapsed = 497.56 s, Gen loss = 1.10, Disc loss = 1.17\n",
      "Epoch 37 / 50, Elapsed = 511.13 s, Gen loss = 0.92, Disc loss = 1.13\n",
      "Epoch 38 / 50, Elapsed = 524.74 s, Gen loss = 0.93, Disc loss = 1.19\n",
      "Epoch 39 / 50, Elapsed = 538.35 s, Gen loss = 0.99, Disc loss = 1.17\n",
      "Epoch 40 / 50, Elapsed = 551.94 s, Gen loss = 0.92, Disc loss = 1.25\n",
      "Epoch 41 / 50, Elapsed = 565.54 s, Gen loss = 0.97, Disc loss = 1.14\n",
      "Epoch 42 / 50, Elapsed = 579.14 s, Gen loss = 0.99, Disc loss = 1.19\n",
      "Epoch 43 / 50, Elapsed = 592.73 s, Gen loss = 0.92, Disc loss = 1.18\n",
      "Epoch 44 / 50, Elapsed = 606.34 s, Gen loss = 1.00, Disc loss = 1.02\n",
      "Epoch 45 / 50, Elapsed = 619.95 s, Gen loss = 1.06, Disc loss = 1.24\n",
      "Epoch 46 / 50, Elapsed = 633.56 s, Gen loss = 0.98, Disc loss = 1.25\n",
      "Epoch 47 / 50, Elapsed = 647.16 s, Gen loss = 0.91, Disc loss = 1.18\n",
      "Epoch 48 / 50, Elapsed = 660.75 s, Gen loss = 1.01, Disc loss = 1.22\n",
      "Epoch 49 / 50, Elapsed = 674.36 s, Gen loss = 1.02, Disc loss = 1.17\n",
      "Epoch 50 / 50, Elapsed = 687.96 s, Gen loss = 1.25, Disc loss = 1.05\n"
     ]
    }
   ],
   "source": [
    "############################\n",
    "######### TRAINING #########\n",
    "############################\n",
    "\n",
    "# epochs\n",
    "EPOCHS = 50\n",
    "\n",
    "# epoch loop\n",
    "tstart = time.time()\n",
    "for epoch in range(EPOCHS):\n",
    "    # batch loop\n",
    "    for i, image_batch in enumerate(train_dataset):\n",
    "        gen_loss, disc_loss = train_step(image_batch, NOISE_SIZE)\n",
    "    # print loss after each epoch\n",
    "    print(f'Epoch {epoch + 1} / {EPOCHS}, Elapsed = {time.time() - tstart:.2f} s, '\n",
    "          f'Gen loss = {gen_loss:.2f}, Disc loss = {disc_loss:.2f}')"
   ]
  },
  {
   "cell_type": "markdown",
   "metadata": {
    "id": "qXxx58MG1Pej"
   },
   "source": [
    "Finally, use the trained generator to generate images from random noise. In the suggested answer, we simply copy from [08_GAN_basics.ipynb](08_GAN_basics.ipynb). \n",
    "\n",
    "**Suggested Answer** \n",
    "\n",
    "<details> <summary>Show / Hide</summary> \n",
    "<p>\n",
    "    \n",
    "```python\n",
    "# seed\n",
    "nrows = 10\n",
    "ncols = 10\n",
    "seed = tf.random.normal([nrows * ncols, NOISE_SIZE])\n",
    "\n",
    "# generate images\n",
    "generated_image = generator(seed, training=False)\n",
    "\n",
    "# plot images\n",
    "plt.figure(dpi=100, figsize=(ncols, nrows))\n",
    "for iplot in range(nrows * ncols):\n",
    "    plt.subplot(nrows, ncols, iplot + 1)\n",
    "    plt.imshow(generated_image[iplot, :, :, 0])\n",
    "    plt.xticks([])\n",
    "    plt.yticks([])\n",
    "plt.show()\n",
    "```\n",
    "    \n",
    "</p>\n",
    "</details>"
   ]
  },
  {
   "cell_type": "code",
   "execution_count": 12,
   "metadata": {
    "colab": {
     "base_uri": "https://localhost:8080/",
     "height": 795
    },
    "id": "geHTVDtB1Pej",
    "outputId": "a6c6f6bc-a9d9-4ff3-cc6f-f9a1551c50f4"
   },
   "outputs": [
    {
     "data": {
      "image/png": "[encoded data removed]",
      "text/plain": [
       "<Figure size 1000x1000 with 100 Axes>"
      ]
     },
     "metadata": {
      "tags": []
     },
     "output_type": "display_data"
    }
   ],
   "source": [
    "# seed\n",
    "nrows = 10\n",
    "ncols = 10\n",
    "seed = tf.random.normal([nrows * ncols, NOISE_SIZE])\n",
    "\n",
    "# generate images\n",
    "generated_image = generator(seed, training=False)\n",
    "\n",
    "# plot images\n",
    "plt.figure(dpi=100, figsize=(ncols, nrows))\n",
    "for iplot in range(nrows * ncols):\n",
    "    plt.subplot(nrows, ncols, iplot + 1)\n",
    "    plt.imshow(generated_image[iplot, :, :, 0])\n",
    "    plt.xticks([])\n",
    "    plt.yticks([])\n",
    "plt.show()"
   ]
  },
  {
   "cell_type": "markdown",
   "metadata": {
    "id": "dT4JSd1tyA6v"
   },
   "source": [
    "Compare the generated results to those generated by a VAE in [07_VAE_practical.ipynb](07_VAE_practical.ipynb). What can you find?"
   ]
  }
 ],
 "metadata": {
  "accelerator": "GPU",
  "colab": {
   "collapsed_sections": [],
   "name": "08_GAN_practical.ipynb",
   "provenance": []
  },
  "kernelspec": {
   "display_name": "Python 3",
   "language": "python",
   "name": "python3"
  },
  "language_info": {
   "codemirror_mode": {
    "name": "ipython",
    "version": 3
   },
   "file_extension": ".py",
   "mimetype": "text/x-python",
   "name": "python",
   "nbconvert_exporter": "python",
   "pygments_lexer": "ipython3",
   "version": "3.8.6"
  }
 },
 "nbformat": 4,
 "nbformat_minor": 1
}
